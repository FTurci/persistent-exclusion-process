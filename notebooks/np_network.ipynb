{
 "cells": [
  {
   "cell_type": "markdown",
   "id": "14ec1392-cf44-405b-a9d0-64556b795072",
   "metadata": {},
   "source": [
    "#  Import packages"
   ]
  },
  {
   "cell_type": "code",
   "execution_count": 1,
   "id": "80b1ed2f-e9e7-4839-b7d8-8e08a0d7b8e7",
   "metadata": {},
   "outputs": [
    {
     "name": "stderr",
     "output_type": "stream",
     "text": [
      "2024-02-18 20:04:04.238481: E external/local_xla/xla/stream_executor/cuda/cuda_dnn.cc:9261] Unable to register cuDNN factory: Attempting to register factory for plugin cuDNN when one has already been registered\n",
      "2024-02-18 20:04:04.238515: E external/local_xla/xla/stream_executor/cuda/cuda_fft.cc:607] Unable to register cuFFT factory: Attempting to register factory for plugin cuFFT when one has already been registered\n",
      "2024-02-18 20:04:04.267987: E external/local_xla/xla/stream_executor/cuda/cuda_blas.cc:1515] Unable to register cuBLAS factory: Attempting to register factory for plugin cuBLAS when one has already been registered\n",
      "2024-02-18 20:04:04.316355: I tensorflow/core/platform/cpu_feature_guard.cc:182] This TensorFlow binary is optimized to use available CPU instructions in performance-critical operations.\n",
      "To enable the following instructions: SSE3 SSE4.1 SSE4.2 AVX AVX2 FMA, in other operations, rebuild TensorFlow with the appropriate compiler flags.\n"
     ]
    }
   ],
   "source": [
    "import numpy as np\n",
    "import h5py\n",
    "import glob\n",
    "import re\n",
    "import tensorflow as tf\n",
    "\n",
    "import matplotlib.pyplot as plt\n",
    "import matplotlib.ticker as ticker\n",
    "from scipy.stats import pearsonr\n",
    "\n",
    "np.set_printoptions(precision=3, suppress=True)"
   ]
  },
  {
   "cell_type": "markdown",
   "id": "2c7ca5fc-7b31-470a-acf6-29ec5544b11e",
   "metadata": {},
   "source": [
    "# Setup GPU"
   ]
  },
  {
   "cell_type": "markdown",
   "id": "1301b5bc-54be-4358-bb86-6d9f8671e7fd",
   "metadata": {},
   "source": [
    "First, follow instructions [here](https://gist.github.com/zrruziev/b93e1292bf2ee39284f834ec7397ee9f), or alternatively run:\n",
    "```bash\n",
    "for a in /sys/bus/pci/devices/*; do echo 0 | sudo tee -a $a/numa_node; done\n",
    "```\n",
    "We do this as a workaround for [this error](https://github.com/tensorflow/tensorflow/issues/42738):"
   ]
  },
  {
   "cell_type": "code",
   "execution_count": 2,
   "id": "c4254e19-b9cb-4555-af86-4f539bff196d",
   "metadata": {},
   "outputs": [
    {
     "name": "stdout",
     "output_type": "stream",
     "text": [
      "[PhysicalDevice(name='/physical_device:GPU:0', device_type='GPU')] /device:GPU:0\n"
     ]
    },
    {
     "name": "stderr",
     "output_type": "stream",
     "text": [
      "2024-02-18 20:04:07.853923: I tensorflow/core/common_runtime/gpu/gpu_device.cc:1929] Created device /device:GPU:0 with 4115 MB memory:  -> device: 0, name: NVIDIA GeForce RTX 2060, pci bus id: 0000:07:00.0, compute capability: 7.5\n"
     ]
    }
   ],
   "source": [
    "gpu_devices = tf.config.experimental.list_physical_devices('GPU')\n",
    "for device in gpu_devices:\n",
    "    tf.config.experimental.set_memory_growth(device, True)\n",
    "print(tf.config.list_physical_devices('GPU'), tf.test.gpu_device_name())"
   ]
  },
  {
   "cell_type": "markdown",
   "id": "bcab94fe-9123-4020-9df7-2e426a6749a3",
   "metadata": {},
   "source": [
    "# Import and prepare data"
   ]
  },
  {
   "cell_type": "code",
   "execution_count": 3,
   "id": "ce11abd2-4f97-4b40-a51a-9afd0e7811ea",
   "metadata": {},
   "outputs": [],
   "source": [
    "def extract_floats(string):\n",
    "    return re.findall(r\"[-+]?\\d*\\.\\d+|\\d+\", string)\n",
    "\n",
    "def data_load(alphas,densities):\n",
    "    files = []\n",
    "    for alp in alphas:\n",
    "        for val in densities:\n",
    "            files += glob.glob(f\"../augmented_data/dataset_tumble_{alp}_{val}.h5\")\n",
    "    inputs,outputs = [],[]\n",
    "    for f in files:\n",
    "        tumble = float(extract_floats(f)[0])\n",
    "        with h5py.File(f, \"r\") as fin:\n",
    "          count = 0\n",
    "          for key in fin.keys():\n",
    "              img = fin[key][:]\n",
    "              img[img > 0] = 1 \n",
    "              img = img.reshape((img.shape[0], img.shape[1],1))\n",
    "              shape = img.shape\n",
    "              inputs.append(img)\n",
    "              outputs.append(tumble)\n",
    "              count+=1\n",
    "\n",
    "    # Scramble the dataset\n",
    "    order = np.arange(len(outputs)).astype(int)\n",
    "    order = np.random.permutation(order)\n",
    "    return np.array(inputs)[order],np.array(outputs)[order],shape"
   ]
  },
  {
   "cell_type": "code",
   "execution_count": 4,
   "id": "91d55335-fba1-4216-8ebc-fdc69d696290",
   "metadata": {},
   "outputs": [],
   "source": [
    "def split_dataset(x,y,last=2000):\n",
    "    print(\"Number of unique alpha: \", len(np.unique(y)))\n",
    "    print(\"Shape of x: \", np.shape(x))\n",
    "    print(\"Shape of y: \", np.shape(y))\n",
    "\n",
    "    x_train, y_train = x[:-last], y[:-last]\n",
    "    x_val,y_val = x[-last:],y[-last:]\n",
    "\n",
    "    print(\"Size of training data: \", len(x_train))\n",
    "    print(\"Size of validation data: \", len(x_val))\n",
    "    return x_train, y_train, x_val, y_val"
   ]
  },
  {
   "cell_type": "code",
   "execution_count": 5,
   "id": "19a56273-adc3-4e76-9681-90d2c2945ca3",
   "metadata": {},
   "outputs": [],
   "source": [
    "x,y,shape = data_load(alphas=[0.023,0.157], densities=[0.2])"
   ]
  },
  {
   "cell_type": "markdown",
   "id": "9ff9b6e0-d1fd-46e1-8d54-9d515df7e583",
   "metadata": {},
   "source": [
    "We have N * number of unique alpha snapshots total, we split them into training set and a validation set with the ratio 80/20:"
   ]
  },
  {
   "cell_type": "code",
   "execution_count": 6,
   "id": "89fa57c4-74a1-456a-ac08-8483a1cef51e",
   "metadata": {},
   "outputs": [
    {
     "name": "stdout",
     "output_type": "stream",
     "text": [
      "Number of unique alpha:  2\n",
      "Shape of x:  (16000, 128, 128, 1)\n",
      "Shape of y:  (16000,)\n",
      "Size of training data:  12800\n",
      "Size of validation data:  3200\n"
     ]
    }
   ],
   "source": [
    "x_train, y_train, x_val, y_val = split_dataset(x,y,last=int(len(x)*0.2))"
   ]
  },
  {
   "cell_type": "code",
   "execution_count": 7,
   "id": "0775f3ca-53b6-4f50-8f1f-48de61e4fbbc",
   "metadata": {},
   "outputs": [
    {
     "data": {
      "text/plain": [
       "<matplotlib.image.AxesImage at 0x784e362bd250>"
      ]
     },
     "execution_count": 7,
     "metadata": {},
     "output_type": "execute_result"
    },
    {
     "data": {
      "image/png": "[encoded data removed]",
      "text/plain": [
       "<Figure size 480x480 with 1 Axes>"
      ]
     },
     "metadata": {},
     "output_type": "display_data"
    }
   ],
   "source": [
    "plt.matshow(x_val[1000])"
   ]
  },
  {
   "cell_type": "markdown",
   "id": "e75d3ac4-803c-4f44-8b7d-4858b3ad757c",
   "metadata": {},
   "source": [
    "# Setup and train our model"
   ]
  },
  {
   "cell_type": "code",
   "execution_count": 8,
   "id": "49a52a99-e63a-47f3-9e29-8c5d85977968",
   "metadata": {},
   "outputs": [],
   "source": [
    "from tensorflow import keras\n",
    "from keras import backend as K\n",
    "from tensorflow.keras.models import Sequential\n",
    "from tensorflow.keras.layers import Dense,Conv2D,Flatten,Dropout,MaxPooling2D,BatchNormalization,AveragePooling2D,Normalization,LeakyReLU,GlobalAveragePooling2D,ReLU"
   ]
  },
  {
   "cell_type": "markdown",
   "id": "f07c0371-f8d5-4cab-b5c5-4db38020f86f",
   "metadata": {},
   "source": [
    "Workaround for dropout not working:"
   ]
  },
  {
   "cell_type": "code",
   "execution_count": 10,
   "id": "eaaf47e6-182a-4de7-b332-d593c80ac28c",
   "metadata": {},
   "outputs": [],
   "source": [
    "import contextlib\n",
    "\n",
    "@contextlib.contextmanager\n",
    "def options(options):\n",
    "  old_opts = tf.config.optimizer.get_experimental_options()\n",
    "  tf.config.optimizer.set_experimental_options(options)\n",
    "  try:\n",
    "    yield\n",
    "  finally:\n",
    "    tf.config.optimizer.set_experimental_options(old_opts)"
   ]
  },
  {
   "cell_type": "markdown",
   "id": "da356eaf-e208-4d88-894e-8718a84eaaa2",
   "metadata": {},
   "source": [
    "**Run this after analysis to reset model and release RAM before changing the architecture**"
   ]
  },
  {
   "cell_type": "code",
   "execution_count": 399,
   "id": "dff9cfc9-cb6e-40d7-91fb-5a0457ef02a4",
   "metadata": {},
   "outputs": [
    {
     "name": "stdout",
     "output_type": "stream",
     "text": [
      "Collected:  4105\n"
     ]
    }
   ],
   "source": [
    "import gc\n",
    "\n",
    "K.clear_session()\n",
    "del prediction\n",
    "del model\n",
    "del history\n",
    "\n",
    "print(\"Collected: \", gc.collect())"
   ]
  },
  {
   "cell_type": "markdown",
   "id": "6f055b9a-1e06-4038-8dbe-67df9e8eb953",
   "metadata": {},
   "source": [
    "## Setting up the model's architecture"
   ]
  },
  {
   "cell_type": "code",
   "execution_count": 11,
   "id": "1e36460a-880b-4f03-b7a3-c52d5d2c8126",
   "metadata": {},
   "outputs": [],
   "source": [
    "def make_net(shape):\n",
    "    model = Sequential()\n",
    "    \n",
    "    model.add(Conv2D(filters=3, kernel_size=(3, 3), padding=\"same\", activation=\"relu\", input_shape=shape))\n",
    "    model.add(BatchNormalization())\n",
    "    model.add(Conv2D(filters=3, kernel_size=(3, 3), padding=\"same\"))\n",
    "    model.add(BatchNormalization())\n",
    "    #model.add(ReLU())\n",
    "    \n",
    "    model.add(MaxPooling2D(pool_size=(2, 2), padding=\"same\"))\n",
    "    \n",
    "    #model.add(Conv2D(filters=6, kernel_size=(3, 3), padding=\"same\"))\n",
    "    #model.add(Conv2D(filters=6, kernel_size=(3, 3), padding=\"same\"))\n",
    "    #model.add(MaxPooling2D(pool_size=(2, 2), padding=\"same\"))\n",
    "    \n",
    "    #model.add(Conv2D(filters=9, kernel_size=(5, 5), padding=\"same\"))\n",
    "    #model.add(MaxPooling2D(pool_size=(2, 2), padding=\"same\"))\n",
    "    #model.add(ReLU())\n",
    "    #model.add(BatchNormalization())\n",
    "    \n",
    "    #model.add(GlobalAveragePooling2D())\n",
    "    \n",
    "    #with options({\"layout_optimizer\": False}):\n",
    "    #    model.add(Dropout(0.1))\n",
    "    \n",
    "    #model.add(Dense(units=128, activation=\"relu\"))\n",
    "    \n",
    "    #with options({\"layout_optimizer\": False}):\n",
    "    #    model.add(Dropout(0.1))\n",
    "        \n",
    "    model.add(Dense(units=3, activation=\"relu\"))\n",
    "    \n",
    "    model.add(Flatten())\n",
    "    model.add(Dense(units=1, activation=\"linear\"))\n",
    "    return model"
   ]
  },
  {
   "cell_type": "code",
   "execution_count": 12,
   "id": "d8ec6ec7-0da4-4c05-8382-6882dc117cb4",
   "metadata": {},
   "outputs": [
    {
     "name": "stderr",
     "output_type": "stream",
     "text": [
      "2024-02-18 20:04:26.933022: I tensorflow/core/common_runtime/gpu/gpu_device.cc:1929] Created device /job:localhost/replica:0/task:0/device:GPU:0 with 4115 MB memory:  -> device: 0, name: NVIDIA GeForce RTX 2060, pci bus id: 0000:07:00.0, compute capability: 7.5\n",
      "2024-02-18 20:04:26.933107: I tensorflow/core/common_runtime/process_util.cc:146] Creating new thread pool with default inter op setting: 2. Tune using inter_op_parallelism_threads for best performance.\n"
     ]
    }
   ],
   "source": [
    "model = make_net(shape)"
   ]
  },
  {
   "cell_type": "markdown",
   "id": "6a887d6d-220c-4610-bb47-d710d597d2f7",
   "metadata": {},
   "source": [
    "## Optimizer"
   ]
  },
  {
   "cell_type": "code",
   "execution_count": 13,
   "id": "aad2606d-0e93-4a2f-9847-a7f0f65dbea9",
   "metadata": {},
   "outputs": [
    {
     "name": "stdout",
     "output_type": "stream",
     "text": [
      "Model: \"sequential\"\n",
      "_________________________________________________________________\n",
      " Layer (type)                Output Shape              Param #   \n",
      "=================================================================\n",
      " conv2d (Conv2D)             (None, 128, 128, 3)       30        \n",
      "                                                                 \n",
      " batch_normalization (BatchN  (None, 128, 128, 3)      12        \n",
      " ormalization)                                                   \n",
      "                                                                 \n",
      " conv2d_1 (Conv2D)           (None, 128, 128, 3)       84        \n",
      "                                                                 \n",
      " batch_normalization_1 (Batc  (None, 128, 128, 3)      12        \n",
      " hNormalization)                                                 \n",
      "                                                                 \n",
      " max_pooling2d (MaxPooling2D  (None, 64, 64, 3)        0         \n",
      " )                                                               \n",
      "                                                                 \n",
      " dense (Dense)               (None, 64, 64, 3)         12        \n",
      "                                                                 \n",
      " flatten (Flatten)           (None, 12288)             0         \n",
      "                                                                 \n",
      " dense_1 (Dense)             (None, 1)                 12289     \n",
      "                                                                 \n",
      "=================================================================\n",
      "Total params: 12,439\n",
      "Trainable params: 12,427\n",
      "Non-trainable params: 12\n",
      "_________________________________________________________________\n"
     ]
    }
   ],
   "source": [
    "#optimizer = keras.optimizers.Adam(learning_rate=0.0003)\n",
    "optimizer = keras.optimizers.SGD(learning_rate=0.005)\n",
    "model.compile(loss='mae', optimizer=optimizer, metrics=['mae'])\n",
    "model.summary()"
   ]
  },
  {
   "cell_type": "markdown",
   "id": "12eee402-b5c5-4ce4-a957-8ede097b3846",
   "metadata": {
    "jp-MarkdownHeadingCollapsed": true
   },
   "source": [
    "## Training and evaluation"
   ]
  },
  {
   "cell_type": "markdown",
   "id": "f84253de-f648-4980-b902-d85bcc5d720e",
   "metadata": {},
   "source": [
    "Before training, these are the \"predictions\":"
   ]
  },
  {
   "cell_type": "code",
   "execution_count": 21,
   "id": "73b8c676-25fe-41a7-af85-6d8230f38109",
   "metadata": {},
   "outputs": [
    {
     "name": "stdout",
     "output_type": "stream",
     "text": [
      "94/94 [==============================] - 0s 3ms/step\n",
      "Shape of prediction :  (6000, 1)\n",
      "Pearson's correlation coeff:  nan\n"
     ]
    },
    {
     "name": "stderr",
     "output_type": "stream",
     "text": [
      "/tmp/ipykernel_260222/3900717829.py:7: ConstantInputWarning: An input array is constant; the correlation coefficient is not defined.\n",
      "  print(\"Pearson's correlation coeff: \", pearsonr(y_val, prediction.T[0]).statistic)\n"
     ]
    },
    {
     "data": {
      "image/png": "[encoded data removed]",
      "text/plain": [
       "<Figure size 640x480 with 1 Axes>"
      ]
     },
     "metadata": {},
     "output_type": "display_data"
    }
   ],
   "source": [
    "prediction = model.predict(x_val, batch_size=64)\n",
    "print(\"Shape of prediction : \", np.shape(prediction))\n",
    "\n",
    "plt.plot(y_val, prediction.T[0], 'o', c='k', alpha=0.25)\n",
    "plt.plot(y_val, y_val, 'o', color='r')\n",
    "\n",
    "print(\"Pearson's correlation coeff: \", pearsonr(y_val, prediction.T[0]).statistic)\n",
    "plt.xlabel(\"Input turning rate\")\n",
    "plt.ylabel(\"Predicted turning rate\")\n",
    "plt.axis(\"equal\")\n",
    "plt.xscale(\"log\")\n",
    "plt.yscale(\"log\")"
   ]
  },
  {
   "cell_type": "code",
   "execution_count": 22,
   "id": "6fe3e90e-b853-4807-94cc-743f2dc8c411",
   "metadata": {},
   "outputs": [
    {
     "name": "stdout",
     "output_type": "stream",
     "text": [
      "Actual:  0.157\n",
      "Predicted:  0.0\n"
     ]
    },
    {
     "data": {
      "image/png": "[encoded data removed]",
      "text/plain": [
       "<Figure size 480x480 with 1 Axes>"
      ]
     },
     "metadata": {},
     "output_type": "display_data"
    }
   ],
   "source": [
    "demo_idx = 100\n",
    "plt.matshow(x_val[demo_idx])\n",
    "print(\"Actual: \", y_val[demo_idx])\n",
    "print(\"Predicted: \", prediction.T[0][demo_idx])"
   ]
  },
  {
   "cell_type": "markdown",
   "id": "675dc0a7-ab76-431e-9631-982f85ef0f35",
   "metadata": {},
   "source": [
    "We can play with the architecture and see how the untrained predictions can change too."
   ]
  },
  {
   "cell_type": "markdown",
   "id": "fc07d37c-1d22-464e-9070-31c63b84ed62",
   "metadata": {},
   "source": [
    "## Run the training"
   ]
  },
  {
   "cell_type": "code",
   "execution_count": 14,
   "id": "b726d25f-bdf0-486c-9c9b-63e2b2d8025d",
   "metadata": {},
   "outputs": [
    {
     "name": "stdout",
     "output_type": "stream",
     "text": [
      "Epoch 1/30\n"
     ]
    },
    {
     "name": "stderr",
     "output_type": "stream",
     "text": [
      "2024-02-18 20:04:36.838882: I external/local_xla/xla/stream_executor/cuda/cuda_dnn.cc:454] Loaded cuDNN version 8907\n",
      "2024-02-18 20:04:37.574323: I external/local_xla/xla/service/service.cc:168] XLA service 0x784abc7fbd10 initialized for platform CUDA (this does not guarantee that XLA will be used). Devices:\n",
      "2024-02-18 20:04:37.574349: I external/local_xla/xla/service/service.cc:176]   StreamExecutor device (0): NVIDIA GeForce RTX 2060, Compute Capability 7.5\n",
      "WARNING: All log messages before absl::InitializeLog() is called are written to STDERR\n",
      "I0000 00:00:1708286677.660942  286493 device_compiler.h:186] Compiled cluster using XLA!  This line is logged at most once for the lifetime of the process.\n"
     ]
    },
    {
     "name": "stdout",
     "output_type": "stream",
     "text": [
      "200/200 [==============================] - 4s 11ms/step - loss: 0.5633 - mae: 0.5633 - val_loss: 0.0963 - val_mae: 0.0963\n",
      "Epoch 2/30\n",
      "200/200 [==============================] - 2s 10ms/step - loss: 0.0680 - mae: 0.0680 - val_loss: 0.0716 - val_mae: 0.0716\n",
      "Epoch 3/30\n",
      "200/200 [==============================] - 2s 10ms/step - loss: 0.0387 - mae: 0.0387 - val_loss: 0.0363 - val_mae: 0.0363\n",
      "Epoch 4/30\n",
      "200/200 [==============================] - 2s 10ms/step - loss: 0.0278 - mae: 0.0278 - val_loss: 0.0276 - val_mae: 0.0276\n",
      "Epoch 5/30\n",
      "200/200 [==============================] - 2s 10ms/step - loss: 0.0225 - mae: 0.0225 - val_loss: 0.0231 - val_mae: 0.0231\n",
      "Epoch 6/30\n",
      "200/200 [==============================] - 2s 10ms/step - loss: 0.0196 - mae: 0.0196 - val_loss: 0.0205 - val_mae: 0.0205\n",
      "Epoch 7/30\n",
      "200/200 [==============================] - 2s 10ms/step - loss: 0.0179 - mae: 0.0179 - val_loss: 0.0188 - val_mae: 0.0188\n",
      "Epoch 8/30\n",
      "200/200 [==============================] - 2s 10ms/step - loss: 0.0169 - mae: 0.0169 - val_loss: 0.0185 - val_mae: 0.0185\n",
      "Epoch 9/30\n",
      "200/200 [==============================] - 2s 10ms/step - loss: 0.0162 - mae: 0.0162 - val_loss: 0.0192 - val_mae: 0.0192\n",
      "Epoch 10/30\n",
      "200/200 [==============================] - 2s 10ms/step - loss: 0.0157 - mae: 0.0157 - val_loss: 0.0190 - val_mae: 0.0190\n",
      "Epoch 11/30\n",
      "200/200 [==============================] - 2s 10ms/step - loss: 0.0154 - mae: 0.0154 - val_loss: 0.0172 - val_mae: 0.0172\n",
      "Epoch 12/30\n",
      "200/200 [==============================] - 2s 10ms/step - loss: 0.0151 - mae: 0.0151 - val_loss: 0.0174 - val_mae: 0.0174\n",
      "Epoch 13/30\n",
      "200/200 [==============================] - 2s 10ms/step - loss: 0.0149 - mae: 0.0149 - val_loss: 0.0162 - val_mae: 0.0162\n",
      "Epoch 14/30\n",
      "200/200 [==============================] - 2s 10ms/step - loss: 0.0149 - mae: 0.0149 - val_loss: 0.0183 - val_mae: 0.0183\n",
      "Epoch 15/30\n",
      "200/200 [==============================] - 2s 10ms/step - loss: 0.0145 - mae: 0.0145 - val_loss: 0.0138 - val_mae: 0.0138\n",
      "Epoch 16/30\n",
      "200/200 [==============================] - 2s 10ms/step - loss: 0.0147 - mae: 0.0147 - val_loss: 0.0156 - val_mae: 0.0156\n",
      "Epoch 17/30\n",
      "200/200 [==============================] - 2s 10ms/step - loss: 0.0146 - mae: 0.0146 - val_loss: 0.0142 - val_mae: 0.0142\n",
      "Epoch 18/30\n",
      "200/200 [==============================] - 2s 10ms/step - loss: 0.0140 - mae: 0.0140 - val_loss: 0.0128 - val_mae: 0.0128\n",
      "Epoch 19/30\n",
      "200/200 [==============================] - 2s 10ms/step - loss: 0.0142 - mae: 0.0142 - val_loss: 0.0151 - val_mae: 0.0151\n",
      "Epoch 20/30\n",
      "200/200 [==============================] - 2s 10ms/step - loss: 0.0136 - mae: 0.0136 - val_loss: 0.0150 - val_mae: 0.0150\n",
      "Epoch 21/30\n",
      "200/200 [==============================] - 2s 10ms/step - loss: 0.0138 - mae: 0.0138 - val_loss: 0.0134 - val_mae: 0.0134\n",
      "Epoch 22/30\n",
      "200/200 [==============================] - 2s 10ms/step - loss: 0.0137 - mae: 0.0137 - val_loss: 0.0127 - val_mae: 0.0127\n",
      "Epoch 23/30\n",
      "200/200 [==============================] - 2s 10ms/step - loss: 0.0143 - mae: 0.0143 - val_loss: 0.0145 - val_mae: 0.0145\n",
      "Epoch 24/30\n",
      "200/200 [==============================] - 2s 10ms/step - loss: 0.0136 - mae: 0.0136 - val_loss: 0.0161 - val_mae: 0.0161\n",
      "Epoch 25/30\n",
      "200/200 [==============================] - 2s 10ms/step - loss: 0.0133 - mae: 0.0133 - val_loss: 0.0120 - val_mae: 0.0120\n",
      "Epoch 26/30\n",
      "200/200 [==============================] - 2s 10ms/step - loss: 0.0135 - mae: 0.0135 - val_loss: 0.0118 - val_mae: 0.0118\n",
      "Epoch 27/30\n",
      "200/200 [==============================] - 2s 10ms/step - loss: 0.0135 - mae: 0.0135 - val_loss: 0.0122 - val_mae: 0.0122\n",
      "Epoch 28/30\n",
      "200/200 [==============================] - 2s 10ms/step - loss: 0.0129 - mae: 0.0129 - val_loss: 0.0119 - val_mae: 0.0119\n",
      "Epoch 29/30\n",
      "200/200 [==============================] - 2s 10ms/step - loss: 0.0128 - mae: 0.0128 - val_loss: 0.0123 - val_mae: 0.0123\n",
      "Epoch 30/30\n",
      "200/200 [==============================] - 2s 10ms/step - loss: 0.0131 - mae: 0.0131 - val_loss: 0.0118 - val_mae: 0.0118\n"
     ]
    }
   ],
   "source": [
    "epochs=30\n",
    "batch_size=64\n",
    "history = model.fit(\n",
    "    x_train,\n",
    "    y_train,\n",
    "    epochs=epochs,\n",
    "    verbose=True,\n",
    "    batch_size=batch_size,\n",
    "    validation_data=(x_val, y_val)\n",
    ")"
   ]
  },
  {
   "cell_type": "code",
   "execution_count": 15,
   "id": "8e98cae5-874c-42f4-af67-e71f6a70efbf",
   "metadata": {},
   "outputs": [
    {
     "name": "stdout",
     "output_type": "stream",
     "text": [
      "Evaluate on test data:\n",
      "Test loss: [0.011750005185604095, 0.011750005185604095]\n"
     ]
    }
   ],
   "source": [
    "print(\"Evaluate on test data:\")\n",
    "results = model.evaluate(x_val, y_val, batch_size=batch_size, verbose=0)\n",
    "print(\"Test loss:\", results)"
   ]
  },
  {
   "cell_type": "markdown",
   "id": "ed3bb137-5261-4a63-8b1d-7dc8e7c67a9f",
   "metadata": {
    "jp-MarkdownHeadingCollapsed": true
   },
   "source": [
    "# Alternatively, load a trained model"
   ]
  },
  {
   "cell_type": "code",
   "execution_count": 196,
   "id": "35194803-e8a6-4dc5-9253-52abeb0edb46",
   "metadata": {},
   "outputs": [
    {
     "name": "stdout",
     "output_type": "stream",
     "text": [
      "Model: \"sequential\"\n",
      "_________________________________________________________________\n",
      " Layer (type)                Output Shape              Param #   \n",
      "=================================================================\n",
      " conv2d (Conv2D)             (None, 128, 128, 3)       30        \n",
      "                                                                 \n",
      " max_pooling2d (MaxPooling2D  (None, 64, 64, 3)        0         \n",
      " )                                                               \n",
      "                                                                 \n",
      " re_lu (ReLU)                (None, 64, 64, 3)         0         \n",
      "                                                                 \n",
      " batch_normalization (BatchN  (None, 64, 64, 3)        12        \n",
      " ormalization)                                                   \n",
      "                                                                 \n",
      " conv2d_1 (Conv2D)           (None, 64, 64, 6)         294       \n",
      "                                                                 \n",
      " max_pooling2d_1 (MaxPooling  (None, 32, 32, 6)        0         \n",
      " 2D)                                                             \n",
      "                                                                 \n",
      " re_lu_1 (ReLU)              (None, 32, 32, 6)         0         \n",
      "                                                                 \n",
      " batch_normalization_1 (Batc  (None, 32, 32, 6)        24        \n",
      " hNormalization)                                                 \n",
      "                                                                 \n",
      " conv2d_2 (Conv2D)           (None, 32, 32, 9)         1359      \n",
      "                                                                 \n",
      " max_pooling2d_2 (MaxPooling  (None, 16, 16, 9)        0         \n",
      " 2D)                                                             \n",
      "                                                                 \n",
      " re_lu_2 (ReLU)              (None, 16, 16, 9)         0         \n",
      "                                                                 \n",
      " batch_normalization_2 (Batc  (None, 16, 16, 9)        36        \n",
      " hNormalization)                                                 \n",
      "                                                                 \n",
      " global_average_pooling2d (G  (None, 9)                0         \n",
      " lobalAveragePooling2D)                                          \n",
      "                                                                 \n",
      " dropout (Dropout)           (None, 9)                 0         \n",
      "                                                                 \n",
      " dense (Dense)               (None, 64)                640       \n",
      "                                                                 \n",
      " dropout_1 (Dropout)         (None, 64)                0         \n",
      "                                                                 \n",
      " dense_1 (Dense)             (None, 10)                650       \n",
      "                                                                 \n",
      " flatten (Flatten)           (None, 10)                0         \n",
      "                                                                 \n",
      " dense_2 (Dense)             (None, 1)                 11        \n",
      "                                                                 \n",
      "=================================================================\n",
      "Total params: 3,056\n",
      "Trainable params: 3,020\n",
      "Non-trainable params: 36\n",
      "_________________________________________________________________\n"
     ]
    }
   ],
   "source": [
    "name = \"implement6908\"\n",
    "model = tf.keras.models.load_model(f'../models/{name}.keras')\n",
    "model.summary()"
   ]
  },
  {
   "cell_type": "markdown",
   "id": "6fb60c6f-b781-4461-a933-48af391a3f60",
   "metadata": {},
   "source": [
    "# Analyse training results"
   ]
  },
  {
   "cell_type": "code",
   "execution_count": 16,
   "id": "1b0d37e7-ffec-4607-b5a3-00d7bc9fa153",
   "metadata": {},
   "outputs": [
    {
     "name": "stdout",
     "output_type": "stream",
     "text": [
      "100/100 [==============================] - 0s 2ms/step\n",
      "Shape of prediction :  (3200, 1)\n"
     ]
    }
   ],
   "source": [
    "prediction = model.predict(x_val)\n",
    "print(\"Shape of prediction : \", np.shape(prediction))"
   ]
  },
  {
   "cell_type": "code",
   "execution_count": 17,
   "id": "1ada8256-93f4-4ca8-bb1f-44a06208f648",
   "metadata": {},
   "outputs": [
    {
     "data": {
      "text/plain": [
       "Text(0, 0.5, 'Predicted turning rate')"
      ]
     },
     "execution_count": 17,
     "metadata": {},
     "output_type": "execute_result"
    },
    {
     "data": {
      "image/png": "[encoded data removed]",
      "text/plain": [
       "<Figure size 640x480 with 1 Axes>"
      ]
     },
     "metadata": {},
     "output_type": "display_data"
    }
   ],
   "source": [
    "from cmcrameri import cm\n",
    "\n",
    "bins = np.logspace(-6,-1,10, base=2)*0.85\n",
    "\n",
    "v = prediction.T[0]\n",
    "\n",
    "colors = cm.batlowS(np.digitize(v, bins))\n",
    "colors_actual = cm.batlowS(np.digitize(np.unique(y_val),bins))\n",
    "\n",
    "fig, ax = plt.subplots()\n",
    "ax.scatter(y_val, v, c=colors, alpha=0.25)\n",
    "ax.scatter(np.unique(y_val), np.unique(y_val), marker=\"_\", color='k', s=200)\n",
    "\n",
    "ax.set_xscale(\"log\")\n",
    "ax.get_xaxis().set_major_formatter(ticker.ScalarFormatter())\n",
    "ax.set_xticks(np.unique(y_val))\n",
    "\n",
    "#ax.set_yscale(\"log\")\n",
    "#ax.get_yaxis().set_major_formatter(ticker.ScalarFormatter())\n",
    "#ax.set_yticks(np.unique(y_val))\n",
    "\n",
    "ax.set_facecolor([0.98,0.98,0.98,1])\n",
    "\n",
    "for val in bins:\n",
    "    ax.axvline(val, alpha=0.05, c='k')\n",
    "\n",
    "ax.set_xlabel(\"Input turning rate\")\n",
    "ax.set_ylabel(\"Predicted turning rate\")"
   ]
  },
  {
   "cell_type": "code",
   "execution_count": 18,
   "id": "151dc690-2f81-4d15-b583-c4cc3c6c088a",
   "metadata": {},
   "outputs": [
    {
     "name": "stdout",
     "output_type": "stream",
     "text": [
      "Overlap ratio: 1.0\n",
      "(Min, Max, Avg) STD: 0.011000638 0.017264768 0.014132703\n",
      "Pearson's correlation coeff:  0.9769550046058834\n"
     ]
    }
   ],
   "source": [
    "std = []\n",
    "overlap = []\n",
    "accuracy = 1e-4\n",
    "for val in np.unique(y_val):\n",
    "    v_mapped = v[np.where(y_val == val)]\n",
    "    std.append(np.std(v_mapped))\n",
    "    overlap.append((val + accuracy >= np.min(v_mapped)) & (val - accuracy <= np.max(v_mapped)))\n",
    "\n",
    "print(\"Overlap ratio:\", np.sum(overlap)/len(overlap))\n",
    "print(\"(Min, Max, Avg) STD:\", np.min(std), np.max(std), np.mean(std))\n",
    "print(\"Pearson's correlation coeff: \", pearsonr(y_val, v).statistic)"
   ]
  },
  {
   "cell_type": "code",
   "execution_count": 19,
   "id": "23aec2a9-dc2a-454e-a23f-40ca9c80b16b",
   "metadata": {},
   "outputs": [
    {
     "data": {
      "text/plain": [
       "Text(0.5, 1.0, 'Training and Validation MAE')"
      ]
     },
     "execution_count": 19,
     "metadata": {},
     "output_type": "execute_result"
    },
    {
     "data": {
      "image/png": "[encoded data removed]",
      "text/plain": [
       "<Figure size 800x800 with 1 Axes>"
      ]
     },
     "metadata": {},
     "output_type": "display_data"
    }
   ],
   "source": [
    "acc = history.history['mae']\n",
    "val_acc = history.history['val_mae']\n",
    "\n",
    "loss = history.history['loss']\n",
    "val_loss = history.history['val_loss']\n",
    "\n",
    "epochs_range = range(epochs)\n",
    "\n",
    "plt.figure(figsize=(8, 8))\n",
    "plt.plot(epochs_range, acc, label='Training MAE')\n",
    "plt.plot(epochs_range, val_acc, label='Validation MAE')\n",
    "plt.legend(loc='lower right')\n",
    "plt.title('Training and Validation MAE')"
   ]
  },
  {
   "cell_type": "markdown",
   "id": "9185faa6-7522-4565-b5f2-cd1a3f34eea5",
   "metadata": {},
   "source": [
    "### Kernel analysis"
   ]
  },
  {
   "cell_type": "code",
   "execution_count": 296,
   "id": "2ddb5df8-70b1-4ac6-b73d-28fc3224ea4a",
   "metadata": {},
   "outputs": [
    {
     "name": "stdout",
     "output_type": "stream",
     "text": [
      "3\n"
     ]
    },
    {
     "data": {
      "image/png": "[encoded data removed]",
      "text/plain": [
       "<Figure size 480x480 with 2 Axes>"
      ]
     },
     "metadata": {},
     "output_type": "display_data"
    },
    {
     "data": {
      "image/png": "[encoded data removed]",
      "text/plain": [
       "<Figure size 480x480 with 2 Axes>"
      ]
     },
     "metadata": {},
     "output_type": "display_data"
    },
    {
     "data": {
      "image/png": "[encoded data removed]",
      "text/plain": [
       "<Figure size 480x480 with 2 Axes>"
      ]
     },
     "metadata": {},
     "output_type": "display_data"
    }
   ],
   "source": [
    "filters, biases = model.layers[0].get_weights()\n",
    "print (filters.shape[-1])\n",
    "for k in range(filters.shape[-1]):\n",
    "  f = filters[:, :, :, k]\n",
    "  plt.matshow(f.squeeze())\n",
    "  plt.colorbar()"
   ]
  },
  {
   "cell_type": "markdown",
   "id": "f6ebf16f-cd22-468c-8729-753aceda2ef0",
   "metadata": {},
   "source": [
    "# Save model (if needed)"
   ]
  },
  {
   "cell_type": "code",
   "execution_count": 20,
   "id": "f2ae8f79-1d5b-4b93-96ea-c86210a6e9b8",
   "metadata": {},
   "outputs": [],
   "source": [
    "name = \"astronaut1046\"\n",
    "model.save(f\"../models/{name}.keras\")"
   ]
  },
  {
   "cell_type": "code",
   "execution_count": null,
   "id": "dadd48d2-6894-4b4e-bf69-55f725da5f68",
   "metadata": {},
   "outputs": [],
   "source": []
  }
 ],
 "metadata": {
  "kernelspec": {
   "display_name": "Python 3 (ipykernel)",
   "language": "python",
   "name": "python3"
  },
  "language_info": {
   "codemirror_mode": {
    "name": "ipython",
    "version": 3
   },
   "file_extension": ".py",
   "mimetype": "text/x-python",
   "name": "python",
   "nbconvert_exporter": "python",
   "pygments_lexer": "ipython3",
   "version": "3.11.7"
  }
 },
 "nbformat": 4,
 "nbformat_minor": 5
}
